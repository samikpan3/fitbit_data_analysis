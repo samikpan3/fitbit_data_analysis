{
 "cells": [
  {
   "cell_type": "markdown",
   "id": "d156c110",
   "metadata": {},
   "source": [
    "Add the CSV file here "
   ]
  },
  {
   "cell_type": "code",
   "execution_count": null,
   "id": "6437620f",
   "metadata": {},
   "outputs": [],
   "source": [
    "df_sleep.describe()"
   ]
  },
  {
   "cell_type": "markdown",
   "id": "b29cfd2e",
   "metadata": {},
   "source": [
    "efficiency = how effective the sleep was/ efficiency score assigned\n",
    "\n",
    "I am first interested in seeing how many minutes I am in bed after I wake up as detected my Fitbit. The data column \"minutesAfterWakeUp\" stores this value.\n",
    "First use date of sleep to determine day of the week for furthe analysis."
   ]
  },
  {
   "cell_type": "markdown",
   "id": "4f6e1aa3",
   "metadata": {},
   "source": [
    "To explore how my sleep changes based on the day of the week. I also want to see how long I sleep and how it is different between week days and weekend. I also want to see how the time I go to bed or time asleep changes on weekends as I predict that I go to bed later on the weekends"
   ]
  },
  {
   "cell_type": "markdown",
   "id": "5d489daf",
   "metadata": {},
   "source": [
    "In the plot below I want to see % of time I stay in each sleep levels against the total number of hours I sleep. Variables of interest: duration,minutesAsleep, deep_minutes , light minutes, rem_minutes, deep_minutes"
   ]
  },
  {
   "cell_type": "code",
   "execution_count": null,
   "id": "e3c5eeb4",
   "metadata": {},
   "outputs": [],
   "source": [
    "total_duration = (df_sleep['duration']/ 60000).sum() #converting duration which is in miliseconds to minutes\n",
    "percentages = {\n",
    "    'REM': (df_sleep['rem_minutes'].sum() / total_duration) * 100,\n",
    "    'Deep': (df_sleep['deep_minutes'].sum() / total_duration) * 100,\n",
    "    'Light': (df_sleep['light_minutes'].sum() / total_duration) * 100,\n",
    "    'Wake': (df_sleep['wake_minutes'].sum() / total_duration) * 100\n",
    "}\n",
    "\n",
    "\n",
    "# Create a pie chart\n",
    "plt.figure(2)\n",
    "#plt.figure(figsize=(6, 6))\n",
    "plt.pie(percentages.values(), labels=percentages.keys(), autopct='%1.1f%%', startangle=90)\n",
    "plt.title(\"Distribution of Sleep Stages\")\n",
    "\n",
    "# Display the pie chart\n",
    "plt.axis('equal')  # Equal aspect ratio ensures that pie is drawn as a circle.\n",
    "plt.show()"
   ]
  },
  {
   "cell_type": "code",
   "execution_count": null,
   "id": "832a4dfa",
   "metadata": {},
   "outputs": [],
   "source": [
    "type(df_sleep[\"dateOfSleep\"])\n",
    "import datetime\n",
    "df_sleep[\"dateOfSleep\"].head()"
   ]
  },
  {
   "cell_type": "code",
   "execution_count": null,
   "id": "4bdb8476",
   "metadata": {},
   "outputs": [],
   "source": [
    "df_sleep['dateOfSleep'] = pd.to_datetime(df_sleep['dateOfSleep'])\n",
    "\n",
    "(df_sleep[\"dateOfSleep\"]).info()"
   ]
  },
  {
   "cell_type": "code",
   "execution_count": null,
   "id": "66392da9",
   "metadata": {},
   "outputs": [],
   "source": [
    "day1 = df_sleep[\"dateOfSleep\"][2]\n",
    "print(day1)\n",
    "import calendar\n",
    "\n",
    "print(day1.weekday())\n",
    "print(calendar.day_name[day1.weekday()]) "
   ]
  },
  {
   "cell_type": "code",
   "execution_count": null,
   "id": "2edf7640",
   "metadata": {},
   "outputs": [],
   "source": [
    "day1test = df_sleep[\"dateOfSleep\"][2]\n",
    "def weekday(eachday):\n",
    "    day_week = day_names[eachday.weekday()]\n",
    "    return day_week \n",
    "\n",
    "print(weekday(day1test))\n",
    "\n",
    "df_sleep[\"dayOfSleep\"] = df_sleep[\"dateOfSleep\"].apply(weekday)\n",
    "\n",
    "df_sleep.head()"
   ]
  },
  {
   "cell_type": "code",
   "execution_count": null,
   "id": "32e8b625",
   "metadata": {},
   "outputs": [],
   "source": [
    "def is_weekend(day): \n",
    "    if day in [\"Saturday\", \"Sunday\"]:\n",
    "        return 1 \n",
    "    else: \n",
    "        return 0 \n",
    "df_sleep[\"weekend\"] = df_sleep[\"dayOfSleep\"].apply(is_weekend) "
   ]
  },
  {
   "cell_type": "code",
   "execution_count": null,
   "id": "4ab39521",
   "metadata": {},
   "outputs": [],
   "source": [
    "df_sleep[\"total_duration_min\"] = (df_sleep['duration']/ 60000)\n",
    "df_sleep.head()"
   ]
  },
  {
   "cell_type": "markdown",
   "id": "e1958c10",
   "metadata": {},
   "source": [
    "Now i can see how my sleep varies if it is weekend or a weekday so some of things I can do are:\n",
    "aggreagte how my sleep is different: mean and SD for sleep over the is_weekend column\n",
    "box plot for weekend and weekday"
   ]
  },
  {
   "cell_type": "code",
   "execution_count": null,
   "id": "b8526e17",
   "metadata": {},
   "outputs": [],
   "source": [
    "df_sleep.groupby(by = 'weekend').agg(['mean','std']).round(2)"
   ]
  },
  {
   "cell_type": "code",
   "execution_count": null,
   "id": "9073357e",
   "metadata": {},
   "outputs": [],
   "source": []
  },
  {
   "cell_type": "code",
   "execution_count": null,
   "id": "6c3ac56f",
   "metadata": {},
   "outputs": [],
   "source": []
  },
  {
   "cell_type": "markdown",
   "id": "84be9df6",
   "metadata": {},
   "source": [
    "Data vidualization ideas:\n",
    "boxplot: how sleep avaries, distirbuiton of average hour slept, group by year?\n",
    "\n",
    "ANALYSIS IDEAS:\n",
    "Check correlations among othe variables: This is can espcialy useful when I add daily activties dataset to my sleep dataset.\n",
    "df.groupby(by = 'dataset').corr().round(2)\n",
    "\n",
    "df.groupby(by = 'dataset').corr().round(2).iloc[1::2, 0] ## better visualization\n",
    "\n",
    "Scatter plot of sleep over reg line? doubtful but okay\n",
    "Show the results of a linear regression within each dataset\n",
    "sns.lmplot(x=\"x\", y=\"y\", col=\"dataset\", hue=\"dataset\", data=df, col_wrap=2, ci=None, palette=\"muted\", height=4, scatter_kws={\"s\": 50, \"alpha\": 1});"
   ]
  }
 ],
 "metadata": {
  "kernelspec": {
   "display_name": "Python 3 (ipykernel)",
   "language": "python",
   "name": "python3"
  },
  "language_info": {
   "codemirror_mode": {
    "name": "ipython",
    "version": 3
   },
   "file_extension": ".py",
   "mimetype": "text/x-python",
   "name": "python",
   "nbconvert_exporter": "python",
   "pygments_lexer": "ipython3",
   "version": "3.10.9"
  }
 },
 "nbformat": 4,
 "nbformat_minor": 5
}
